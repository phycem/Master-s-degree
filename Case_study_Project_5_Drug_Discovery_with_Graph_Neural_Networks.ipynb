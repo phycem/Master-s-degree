{
  "nbformat": 4,
  "nbformat_minor": 0,
  "metadata": {
    "colab": {
      "name": "Case study Project 5: Drug Discovery with Graph Neural Networks",
      "provenance": [],
      "authorship_tag": "ABX9TyMDCQqmWgFFBWnai878KGWu",
      "include_colab_link": true
    },
    "kernelspec": {
      "name": "python3",
      "display_name": "Python 3"
    },
    "language_info": {
      "name": "python"
    }
  },
  "cells": [
    {
      "cell_type": "markdown",
      "metadata": {
        "id": "view-in-github",
        "colab_type": "text"
      },
      "source": [
        "<a href=\"https://colab.research.google.com/github/phycem/Master-s-degree/blob/main/Case_study_Project_5_Drug_Discovery_with_Graph_Neural_Networks.ipynb\" target=\"_parent\"><img src=\"https://colab.research.google.com/assets/colab-badge.svg\" alt=\"Open In Colab\"/></a>"
      ]
    },
    {
      "cell_type": "code",
      "execution_count": 1,
      "metadata": {
        "colab": {
          "base_uri": "https://localhost:8080/"
        },
        "id": "qZbGJMDL0ntj",
        "outputId": "533145a6-fd8f-4937-a45d-f09951c1db54"
      },
      "outputs": [
        {
          "output_type": "stream",
          "name": "stdout",
          "text": [
            "/bin/bash: mamba: command not found\n",
            "Looking in indexes: https://pypi.org/simple, https://us-python.pkg.dev/colab-wheels/public/simple/\n",
            "Collecting deepchem\n",
            "  Downloading deepchem-2.6.1-py3-none-any.whl (608 kB)\n",
            "\u001b[K     |████████████████████████████████| 608 kB 9.1 MB/s \n",
            "\u001b[?25hRequirement already satisfied: numpy>=1.21 in /usr/local/lib/python3.7/dist-packages (from deepchem) (1.21.6)\n",
            "Collecting rdkit-pypi\n",
            "  Downloading rdkit_pypi-2022.3.4-cp37-cp37m-manylinux_2_17_x86_64.manylinux2014_x86_64.whl (22.7 MB)\n",
            "\u001b[K     |████████████████████████████████| 22.7 MB 3.6 MB/s \n",
            "\u001b[?25hRequirement already satisfied: joblib in /usr/local/lib/python3.7/dist-packages (from deepchem) (1.1.0)\n",
            "Requirement already satisfied: scipy in /usr/local/lib/python3.7/dist-packages (from deepchem) (1.4.1)\n",
            "Requirement already satisfied: scikit-learn in /usr/local/lib/python3.7/dist-packages (from deepchem) (1.0.2)\n",
            "Requirement already satisfied: pandas in /usr/local/lib/python3.7/dist-packages (from deepchem) (1.3.5)\n",
            "Requirement already satisfied: python-dateutil>=2.7.3 in /usr/local/lib/python3.7/dist-packages (from pandas->deepchem) (2.8.2)\n",
            "Requirement already satisfied: pytz>=2017.3 in /usr/local/lib/python3.7/dist-packages (from pandas->deepchem) (2022.1)\n",
            "Requirement already satisfied: six>=1.5 in /usr/local/lib/python3.7/dist-packages (from python-dateutil>=2.7.3->pandas->deepchem) (1.15.0)\n",
            "Requirement already satisfied: Pillow in /usr/local/lib/python3.7/dist-packages (from rdkit-pypi->deepchem) (7.1.2)\n",
            "Requirement already satisfied: threadpoolctl>=2.0.0 in /usr/local/lib/python3.7/dist-packages (from scikit-learn->deepchem) (3.1.0)\n",
            "Installing collected packages: rdkit-pypi, deepchem\n",
            "Successfully installed deepchem-2.6.1 rdkit-pypi-2022.3.4\n",
            "--2022-07-11 01:17:16--  https://storage.googleapis.com/inspirit-ai-data-bucket-1/Data/Deep%20Dives/AI%20%2B%20Healthcare/Sessions%201-5/Drug%20Discovery%20with%20GNNs/delaney-processed.csv\n",
            "Resolving storage.googleapis.com (storage.googleapis.com)... 142.251.2.128, 74.125.137.128, 2607:f8b0:4023:c0d::80, ...\n",
            "Connecting to storage.googleapis.com (storage.googleapis.com)|142.251.2.128|:443... connected.\n",
            "HTTP request sent, awaiting response... 200 OK\n",
            "Length: 96699 (94K) [text/csv]\n",
            "Saving to: ‘delaney-processed.csv’\n",
            "\n",
            "delaney-processed.c 100%[===================>]  94.43K  --.-KB/s    in 0.001s  \n",
            "\n",
            "2022-07-11 01:17:16 (96.2 MB/s) - ‘delaney-processed.csv’ saved [96699/96699]\n",
            "\n",
            "--2022-07-11 01:17:16--  https://storage.googleapis.com/inspirit-ai-data-bucket-1/Data/Deep%20Dives/AI%20%2B%20Healthcare/Sessions%201-5/Drug%20Discovery%20with%20GNNs/tox21.csv.gz\n",
            "Resolving storage.googleapis.com (storage.googleapis.com)... 142.251.2.128, 2607:f8b0:4023:c0d::80, 2607:f8b0:4023:c0b::80, ...\n",
            "Connecting to storage.googleapis.com (storage.googleapis.com)|142.251.2.128|:443... connected.\n",
            "HTTP request sent, awaiting response... 200 OK\n",
            "Length: 125310 (122K) [application/x-gzip]\n",
            "Saving to: ‘tox21.csv.gz’\n",
            "\n",
            "tox21.csv.gz        100%[===================>] 122.37K  --.-KB/s    in 0.002s  \n",
            "\n",
            "2022-07-11 01:17:16 (77.4 MB/s) - ‘tox21.csv.gz’ saved [125310/125310]\n",
            "\n"
          ]
        },
        {
          "output_type": "stream",
          "name": "stderr",
          "text": [
            "deepchem.utils.save has been deprecated.\n",
            "The utilities in save.py are moved to deepchem.utils.data_utils or deepchem.utils.genomics_utils.\n"
          ]
        }
      ],
      "source": [
        "#@title Let's download our data and set up packages while I discuss the intro below! Just ignore any warnings here.\n",
        "!mamba install -c conda-forge rdkit\n",
        "\n",
        "!pip install --pre deepchem\n",
        "import deepchem\n",
        "\n",
        "!wget \"https://storage.googleapis.com/inspirit-ai-data-bucket-1/Data/Deep%20Dives/AI%20%2B%20Healthcare/Sessions%201-5/Drug%20Discovery%20with%20GNNs/delaney-processed.csv\"\n",
        "!wget \"https://storage.googleapis.com/inspirit-ai-data-bucket-1/Data/Deep%20Dives/AI%20%2B%20Healthcare/Sessions%201-5/Drug%20Discovery%20with%20GNNs/tox21.csv.gz\"\n",
        "\n",
        "import gzip\n",
        "import shutil\n",
        "with gzip.open('tox21.csv.gz', 'rb') as f_in:\n",
        "    with open('tox21.csv', 'wb') as f_out:\n",
        "        shutil.copyfileobj(f_in, f_out)\n",
        "\n",
        "\n",
        "from deepchem.utils.save import load_from_disk\n",
        "\n",
        "# Data Structures\n",
        "import numpy as np\n",
        "import pandas as pd\n",
        "\n",
        "# Graphing\n",
        "import matplotlib.pyplot as plt\n",
        "\n",
        "# Metrics\n",
        "from sklearn.model_selection import train_test_split\n",
        "from sklearn import metrics\n",
        "\n",
        "# ML Models\n",
        "from deepchem.models import GraphConvModel\n",
        "from sklearn.ensemble import RandomForestRegressor\n",
        "from sklearn.ensemble import RandomForestClassifier"
      ]
    },
    {
      "cell_type": "markdown",
      "source": [
        "Each year, the FDA approves 40 - 50 new drugs, targeting a variety of illnesses and diseases!\n",
        "\n",
        "But how successful and cost-effective is the process?\n",
        "a few key components of the drug discovery process:\n",
        "1. Identifying a target for which to design a drug.\n",
        "2. Thousands of potential drugs must be tested to determine their effect on the target.\n",
        "3. Promising drug candidates are then tested in animals and then humans. Human trials take place in 3 phases to test for both safety and efficacy.\n",
        "Many stage(s) of the drug discovery process could be made more efficient with ML\n",
        "to reduce the time from target identification to clinical trials. \n",
        "\n",
        "![alt text](https://www.researchgate.net/profile/Niroshini-Nirmalan/publication/308045230/figure/fig1/AS:613907634872358@1523378394724/Drug-discovery-and-development-timeline-The-current-drug-approval-pipeline-can-take-15.png)"
      ],
      "metadata": {
        "id": "hSRNg-F-1XGV"
      }
    },
    {
      "cell_type": "code",
      "source": [
        ""
      ],
      "metadata": {
        "id": "mkAACaWd1Kua"
      },
      "execution_count": null,
      "outputs": []
    },
    {
      "cell_type": "markdown",
      "source": [
        "Nice! Now, that i have gone through the exploring the drug development pipeline, I build an ML model for drug discovery. Using a specialized scientific library called `deepchem`, I explore two stages of the drug discovery process to see how AI can help humans screen drug candidates! I do:\n",
        "*   Predict solubility using linear regression and graph neural networks\n",
        "*   Predict toxicity using graph neural networks\n",
        "*   See what portion of molecules get through the screenings!"
      ],
      "metadata": {
        "id": "-eaPTRFi4QPs"
      }
    },
    {
      "cell_type": "markdown",
      "source": [
        "# Determining Molecular Solubility"
      ],
      "metadata": {
        "id": "MQwJJ7uK447p"
      }
    },
    {
      "cell_type": "markdown",
      "source": [
        "One of the biggest early challenges in drug discovery is to find drugs that will be [absorbed by the human body](https://www.technologynetworks.com/drug-discovery/articles/what-is-adme-336683).\n",
        "\n",
        "In this notebook, I start by predicting the **solubility** of various drug candidates: **how much of the drug can dissolve in water**. My task is to find soluble molecules which can circulate through the bloodstream!\n",
        "\n",
        "For this task, I use the `deepchem` and `rdkit` libraries. I also explore multiple ML models including graph neural networks (GNNs).\n"
      ],
      "metadata": {
        "id": "nQuDAQN849X6"
      }
    },
    {
      "cell_type": "markdown",
      "source": [
        "Now, let's take a look at what the first 5 rows of `delaney-processed.csv` look like! This is the file with the solubility information. "
      ],
      "metadata": {
        "id": "HvWWptr85TqN"
      }
    },
    {
      "cell_type": "code",
      "source": [
        "solubility_data = pd.read_csv(\"delaney-processed.csv\")\n",
        "solubility_data.head()"
      ],
      "metadata": {
        "colab": {
          "base_uri": "https://localhost:8080/",
          "height": 333
        },
        "id": "TzR9pmYI4ty1",
        "outputId": "d70b5cfe-e5c6-4e2a-9eb2-08d126302635"
      },
      "execution_count": 2,
      "outputs": [
        {
          "output_type": "execute_result",
          "data": {
            "text/plain": [
              "  Compound ID  ESOL predicted log solubility in mols per litre  \\\n",
              "0   Amigdalin                                           -0.974   \n",
              "1    Fenfuram                                           -2.885   \n",
              "2      citral                                           -2.579   \n",
              "3      Picene                                           -6.618   \n",
              "4   Thiophene                                           -2.232   \n",
              "\n",
              "   Minimum Degree  Molecular Weight  Number of H-Bond Donors  Number of Rings  \\\n",
              "0               1           457.432                        7                3   \n",
              "1               1           201.225                        1                2   \n",
              "2               1           152.237                        0                0   \n",
              "3               2           278.354                        0                5   \n",
              "4               2            84.143                        0                1   \n",
              "\n",
              "   Number of Rotatable Bonds  Polar Surface Area  \\\n",
              "0                          7              202.32   \n",
              "1                          2               42.24   \n",
              "2                          4               17.07   \n",
              "3                          0                0.00   \n",
              "4                          0                0.00   \n",
              "\n",
              "   measured log solubility in mols per litre  \\\n",
              "0                                      -0.77   \n",
              "1                                      -3.30   \n",
              "2                                      -2.06   \n",
              "3                                      -7.87   \n",
              "4                                      -1.33   \n",
              "\n",
              "                                              smiles  \n",
              "0  OCC3OC(OCC2OC(OC(C#N)c1ccccc1)C(O)C(O)C2O)C(O)...  \n",
              "1                             Cc1occc1C(=O)Nc2ccccc2  \n",
              "2                               CC(C)=CCCC(C)=CC(=O)  \n",
              "3                 c1ccc2c(c1)ccc3c2ccc4c5ccccc5ccc43  \n",
              "4                                            c1ccsc1  "
            ],
            "text/html": [
              "\n",
              "  <div id=\"df-5910579a-527f-446e-8c6e-4ebeddb3f3f3\">\n",
              "    <div class=\"colab-df-container\">\n",
              "      <div>\n",
              "<style scoped>\n",
              "    .dataframe tbody tr th:only-of-type {\n",
              "        vertical-align: middle;\n",
              "    }\n",
              "\n",
              "    .dataframe tbody tr th {\n",
              "        vertical-align: top;\n",
              "    }\n",
              "\n",
              "    .dataframe thead th {\n",
              "        text-align: right;\n",
              "    }\n",
              "</style>\n",
              "<table border=\"1\" class=\"dataframe\">\n",
              "  <thead>\n",
              "    <tr style=\"text-align: right;\">\n",
              "      <th></th>\n",
              "      <th>Compound ID</th>\n",
              "      <th>ESOL predicted log solubility in mols per litre</th>\n",
              "      <th>Minimum Degree</th>\n",
              "      <th>Molecular Weight</th>\n",
              "      <th>Number of H-Bond Donors</th>\n",
              "      <th>Number of Rings</th>\n",
              "      <th>Number of Rotatable Bonds</th>\n",
              "      <th>Polar Surface Area</th>\n",
              "      <th>measured log solubility in mols per litre</th>\n",
              "      <th>smiles</th>\n",
              "    </tr>\n",
              "  </thead>\n",
              "  <tbody>\n",
              "    <tr>\n",
              "      <th>0</th>\n",
              "      <td>Amigdalin</td>\n",
              "      <td>-0.974</td>\n",
              "      <td>1</td>\n",
              "      <td>457.432</td>\n",
              "      <td>7</td>\n",
              "      <td>3</td>\n",
              "      <td>7</td>\n",
              "      <td>202.32</td>\n",
              "      <td>-0.77</td>\n",
              "      <td>OCC3OC(OCC2OC(OC(C#N)c1ccccc1)C(O)C(O)C2O)C(O)...</td>\n",
              "    </tr>\n",
              "    <tr>\n",
              "      <th>1</th>\n",
              "      <td>Fenfuram</td>\n",
              "      <td>-2.885</td>\n",
              "      <td>1</td>\n",
              "      <td>201.225</td>\n",
              "      <td>1</td>\n",
              "      <td>2</td>\n",
              "      <td>2</td>\n",
              "      <td>42.24</td>\n",
              "      <td>-3.30</td>\n",
              "      <td>Cc1occc1C(=O)Nc2ccccc2</td>\n",
              "    </tr>\n",
              "    <tr>\n",
              "      <th>2</th>\n",
              "      <td>citral</td>\n",
              "      <td>-2.579</td>\n",
              "      <td>1</td>\n",
              "      <td>152.237</td>\n",
              "      <td>0</td>\n",
              "      <td>0</td>\n",
              "      <td>4</td>\n",
              "      <td>17.07</td>\n",
              "      <td>-2.06</td>\n",
              "      <td>CC(C)=CCCC(C)=CC(=O)</td>\n",
              "    </tr>\n",
              "    <tr>\n",
              "      <th>3</th>\n",
              "      <td>Picene</td>\n",
              "      <td>-6.618</td>\n",
              "      <td>2</td>\n",
              "      <td>278.354</td>\n",
              "      <td>0</td>\n",
              "      <td>5</td>\n",
              "      <td>0</td>\n",
              "      <td>0.00</td>\n",
              "      <td>-7.87</td>\n",
              "      <td>c1ccc2c(c1)ccc3c2ccc4c5ccccc5ccc43</td>\n",
              "    </tr>\n",
              "    <tr>\n",
              "      <th>4</th>\n",
              "      <td>Thiophene</td>\n",
              "      <td>-2.232</td>\n",
              "      <td>2</td>\n",
              "      <td>84.143</td>\n",
              "      <td>0</td>\n",
              "      <td>1</td>\n",
              "      <td>0</td>\n",
              "      <td>0.00</td>\n",
              "      <td>-1.33</td>\n",
              "      <td>c1ccsc1</td>\n",
              "    </tr>\n",
              "  </tbody>\n",
              "</table>\n",
              "</div>\n",
              "      <button class=\"colab-df-convert\" onclick=\"convertToInteractive('df-5910579a-527f-446e-8c6e-4ebeddb3f3f3')\"\n",
              "              title=\"Convert this dataframe to an interactive table.\"\n",
              "              style=\"display:none;\">\n",
              "        \n",
              "  <svg xmlns=\"http://www.w3.org/2000/svg\" height=\"24px\"viewBox=\"0 0 24 24\"\n",
              "       width=\"24px\">\n",
              "    <path d=\"M0 0h24v24H0V0z\" fill=\"none\"/>\n",
              "    <path d=\"M18.56 5.44l.94 2.06.94-2.06 2.06-.94-2.06-.94-.94-2.06-.94 2.06-2.06.94zm-11 1L8.5 8.5l.94-2.06 2.06-.94-2.06-.94L8.5 2.5l-.94 2.06-2.06.94zm10 10l.94 2.06.94-2.06 2.06-.94-2.06-.94-.94-2.06-.94 2.06-2.06.94z\"/><path d=\"M17.41 7.96l-1.37-1.37c-.4-.4-.92-.59-1.43-.59-.52 0-1.04.2-1.43.59L10.3 9.45l-7.72 7.72c-.78.78-.78 2.05 0 2.83L4 21.41c.39.39.9.59 1.41.59.51 0 1.02-.2 1.41-.59l7.78-7.78 2.81-2.81c.8-.78.8-2.07 0-2.86zM5.41 20L4 18.59l7.72-7.72 1.47 1.35L5.41 20z\"/>\n",
              "  </svg>\n",
              "      </button>\n",
              "      \n",
              "  <style>\n",
              "    .colab-df-container {\n",
              "      display:flex;\n",
              "      flex-wrap:wrap;\n",
              "      gap: 12px;\n",
              "    }\n",
              "\n",
              "    .colab-df-convert {\n",
              "      background-color: #E8F0FE;\n",
              "      border: none;\n",
              "      border-radius: 50%;\n",
              "      cursor: pointer;\n",
              "      display: none;\n",
              "      fill: #1967D2;\n",
              "      height: 32px;\n",
              "      padding: 0 0 0 0;\n",
              "      width: 32px;\n",
              "    }\n",
              "\n",
              "    .colab-df-convert:hover {\n",
              "      background-color: #E2EBFA;\n",
              "      box-shadow: 0px 1px 2px rgba(60, 64, 67, 0.3), 0px 1px 3px 1px rgba(60, 64, 67, 0.15);\n",
              "      fill: #174EA6;\n",
              "    }\n",
              "\n",
              "    [theme=dark] .colab-df-convert {\n",
              "      background-color: #3B4455;\n",
              "      fill: #D2E3FC;\n",
              "    }\n",
              "\n",
              "    [theme=dark] .colab-df-convert:hover {\n",
              "      background-color: #434B5C;\n",
              "      box-shadow: 0px 1px 3px 1px rgba(0, 0, 0, 0.15);\n",
              "      filter: drop-shadow(0px 1px 2px rgba(0, 0, 0, 0.3));\n",
              "      fill: #FFFFFF;\n",
              "    }\n",
              "  </style>\n",
              "\n",
              "      <script>\n",
              "        const buttonEl =\n",
              "          document.querySelector('#df-5910579a-527f-446e-8c6e-4ebeddb3f3f3 button.colab-df-convert');\n",
              "        buttonEl.style.display =\n",
              "          google.colab.kernel.accessAllowed ? 'block' : 'none';\n",
              "\n",
              "        async function convertToInteractive(key) {\n",
              "          const element = document.querySelector('#df-5910579a-527f-446e-8c6e-4ebeddb3f3f3');\n",
              "          const dataTable =\n",
              "            await google.colab.kernel.invokeFunction('convertToInteractive',\n",
              "                                                     [key], {});\n",
              "          if (!dataTable) return;\n",
              "\n",
              "          const docLinkHtml = 'Like what you see? Visit the ' +\n",
              "            '<a target=\"_blank\" href=https://colab.research.google.com/notebooks/data_table.ipynb>data table notebook</a>'\n",
              "            + ' to learn more about interactive tables.';\n",
              "          element.innerHTML = '';\n",
              "          dataTable['output_type'] = 'display_data';\n",
              "          await google.colab.output.renderOutput(dataTable, element);\n",
              "          const docLink = document.createElement('div');\n",
              "          docLink.innerHTML = docLinkHtml;\n",
              "          element.appendChild(docLink);\n",
              "        }\n",
              "      </script>\n",
              "    </div>\n",
              "  </div>\n",
              "  "
            ]
          },
          "metadata": {},
          "execution_count": 2
        }
      ]
    },
    {
      "cell_type": "code",
      "source": [
        "solubility_data.shape"
      ],
      "metadata": {
        "colab": {
          "base_uri": "https://localhost:8080/"
        },
        "id": "EP2qFJAR5jrT",
        "outputId": "afd4751a-9c74-4eb8-ba3d-5a3b6e8bfb41"
      },
      "execution_count": 3,
      "outputs": [
        {
          "output_type": "execute_result",
          "data": {
            "text/plain": [
              "(1128, 10)"
            ]
          },
          "metadata": {},
          "execution_count": 3
        }
      ]
    },
    {
      "cell_type": "markdown",
      "source": [
        ""
      ],
      "metadata": {
        "id": "Eq_HdSZ-6N5q"
      }
    },
    {
      "cell_type": "markdown",
      "metadata": {
        "id": "WjOPS6no6Qav"
      },
      "source": [
        "data matrix columns represent:\n",
        "\n",
        "*   **Compound ID**: The chemical compound name\n",
        "*   **ESOL predicted log solubility in mols per litre**: The predicted solubility for each compound using a standard method, ESOL. This represents the ability of a compound to dissolve in a non-polar solvent (oils, lipids).\n",
        "*   **measured log solubility in mols per litre**: The measured solubility for each compound. This is what we're trying to predict!\n",
        "*   **smiles**: The string notation representation for each compound's molecular structure.\n",
        "\n",
        "**Optional**: If you're interested in the chemistry, read on:\n",
        "*   **Minimum Degree**: The minimum number of bonds to any atom in the compound.\n",
        "*   **Molecular Weight**: The molar mass of the compount in g/mol.\n",
        "*   **Number of H- Bond Donors**: The number of hydrogen atoms in the molecule that are \"donated\" to form hydrogen bonds.\n",
        "*   **Number of Rotatable Bonds**: The number of bonds that are connected to \"non-terminal heavy atoms\" that aren't part of a ring. \n",
        "*   **Polar Surface Area**: The total surface area of the polar atoms and molecules. Examples of polar molecules are are water and ammonia.\n",
        "*   **Number of Rings**: The number of rings present on the molecular diagram. For example, Amigdalin has 3 rings, as shown in this image:\n",
        "\n",
        "![alt text](https://file.medchemexpress.com/product_pic/hy-n0190.gif)\n"
      ]
    },
    {
      "cell_type": "markdown",
      "source": [
        "##Baseline: Predicting Solubility with Linear Regression\n",
        "Now, let's determine how we can begin predicting solubility! \n",
        "\n",
        "To begin predicting solubility, I start with linear regression as a baseline to compare to GNN. \n",
        "Here, I present the `X` (raw data) and `y` (output) variables."
      ],
      "metadata": {
        "id": "QadaXhRi6swb"
      }
    },
    {
      "cell_type": "code",
      "source": [
        "input_cols = ['Minimum Degree','Molecular Weight','Number of H-Bond Donors','Number of Rings','Number of Rotatable Bonds','Polar Surface Area'] # TODO: [ FILL IN INPUTS ]\n",
        "output_cols = ['measured log solubility in mols per litre'] # TODO: [ FILL IN OUTPUT ]\n",
        "\n",
        "X = solubility_data[input_cols]\n",
        "y = solubility_data[output_cols]"
      ],
      "metadata": {
        "id": "DlMHbJjA6Cc4"
      },
      "execution_count": 5,
      "outputs": []
    },
    {
      "cell_type": "markdown",
      "source": [
        "Now, let's perform a test/train split with 20% testing data, **without shuffling**:"
      ],
      "metadata": {
        "id": "UuMbgQBL7i1W"
      }
    },
    {
      "cell_type": "code",
      "source": [
        "X_train, X_test, y_train, y_test = train_test_split(X,y,test_size=0.2,shuffle=False)"
      ],
      "metadata": {
        "id": "BKqULPbI7U2L"
      },
      "execution_count": 6,
      "outputs": []
    },
    {
      "cell_type": "markdown",
      "metadata": {
        "id": "0mBx_KhObjLr"
      },
      "source": [
        "Now, let's initialize and train a linear regression model."
      ]
    },
    {
      "cell_type": "code",
      "source": [
        "import sklearn\n",
        "from sklearn import linear_model\n",
        "\n",
        "lm = sklearn.linear_model.LinearRegression()\n",
        "lm.fit(X_train,y_train)\n",
        "preds = lm.predict(X_test)"
      ],
      "metadata": {
        "id": "xt8ou3yo7wKH"
      },
      "execution_count": 7,
      "outputs": []
    },
    {
      "cell_type": "markdown",
      "metadata": {
        "id": "GhhRXllW5uk1"
      },
      "source": [
        "To calculate the peformance, I use the R^2 metric and the function `metrics.r2_score`. I've used this metric to evaluate my previous linear regression models. **Note**: An R^2 value is within the range of 0 to 1, and greater values are better."
      ]
    },
    {
      "cell_type": "code",
      "source": [
        "metrics.r2_score(y_test,preds)"
      ],
      "metadata": {
        "colab": {
          "base_uri": "https://localhost:8080/"
        },
        "id": "y54QhbHO8QRY",
        "outputId": "4dba0ba2-bc0b-4df9-a8ef-d27906d9e677"
      },
      "execution_count": 8,
      "outputs": [
        {
          "output_type": "execute_result",
          "data": {
            "text/plain": [
              "0.6024918982930053"
            ]
          },
          "metadata": {},
          "execution_count": 8
        }
      ]
    },
    {
      "cell_type": "markdown",
      "source": [
        ""
      ],
      "metadata": {
        "id": "sFrKVMee8ZEw"
      }
    },
    {
      "cell_type": "markdown",
      "metadata": {
        "id": "08BEFYcVr1lK"
      },
      "source": [
        "This prediction seem to be valuable and good however R^2 can be a little hard to interpret, so let's visualize it at a plot:"
      ]
    },
    {
      "cell_type": "code",
      "source": [
        "plt.plot(y_test, preds, '.')\n",
        "plt.legend(['LinReg Predictions'])\n",
        "plt.xlabel(\"True Log Solubility\")\n",
        "plt.ylabel(\"Predicted Log Solubility\")"
      ],
      "metadata": {
        "colab": {
          "base_uri": "https://localhost:8080/",
          "height": 296
        },
        "id": "bDZQoFcR8Tni",
        "outputId": "42e4eb86-fe01-4a70-8c83-122298c067ec"
      },
      "execution_count": 9,
      "outputs": [
        {
          "output_type": "execute_result",
          "data": {
            "text/plain": [
              "Text(0, 0.5, 'Predicted Log Solubility')"
            ]
          },
          "metadata": {},
          "execution_count": 9
        },
        {
          "output_type": "display_data",
          "data": {
            "text/plain": [
              "<Figure size 432x288 with 1 Axes>"
            ],
            "image/png": "[encoded data removed]"
          },
          "metadata": {
            "needs_background": "light"
          }
        }
      ]
    },
    {
      "cell_type": "markdown",
      "source": [
        "Reasonable amount of the predicted values are matching with the true log solubility. We can clearly see that."
      ],
      "metadata": {
        "id": "aykBmbi09OCP"
      }
    },
    {
      "cell_type": "markdown",
      "source": [
        "### Comparing with ESOL\n",
        "\n",
        "At the point, I wonder about how my prediction compares to the ESOL predictions - those actually also come from a [linear regression model](https://pubs.acs.org/doi/abs/10.1021/ci034243x) trained on a bigger dataset. Their predictions are giving higher precision than ours since they are takinga bigger data set to train. Here is the plot to compare the two predictions: \n"
      ],
      "metadata": {
        "id": "Z24NUDQh95mu"
      }
    },
    {
      "cell_type": "code",
      "source": [
        "esol_pred = solubility_data['ESOL predicted log solubility in mols per litre'].loc[y_test.index]\n",
        "esol_pred"
      ],
      "metadata": {
        "colab": {
          "base_uri": "https://localhost:8080/"
        },
        "id": "hqiUWAfn9Flg",
        "outputId": "00cfe8d9-8734-4723-f5bc-06174c8049c7"
      },
      "execution_count": 10,
      "outputs": [
        {
          "output_type": "execute_result",
          "data": {
            "text/plain": [
              "902    -4.795\n",
              "903    -1.191\n",
              "904    -3.693\n",
              "905    -3.199\n",
              "906    -4.116\n",
              "        ...  \n",
              "1123   -2.608\n",
              "1124   -0.908\n",
              "1125   -3.323\n",
              "1126   -2.245\n",
              "1127   -4.320\n",
              "Name: ESOL predicted log solubility in mols per litre, Length: 226, dtype: float64"
            ]
          },
          "metadata": {},
          "execution_count": 10
        }
      ]
    },
    {
      "cell_type": "code",
      "source": [
        "plt.plot(y_test, preds, '.')\n",
        "plt.plot(y_test, esol_pred, '.')\n",
        "plt.legend(['LinReg Predictions','ESOL'])\n",
        "plt.xlabel(\"True Log Solubility\")\n",
        "plt.ylabel(\"Predicted Log Solubility\")"
      ],
      "metadata": {
        "colab": {
          "base_uri": "https://localhost:8080/",
          "height": 296
        },
        "id": "S6ARfIJIAd8f",
        "outputId": "671ea692-e044-4436-c0c5-6ce5903078c4"
      },
      "execution_count": 11,
      "outputs": [
        {
          "output_type": "execute_result",
          "data": {
            "text/plain": [
              "Text(0, 0.5, 'Predicted Log Solubility')"
            ]
          },
          "metadata": {},
          "execution_count": 11
        },
        {
          "output_type": "display_data",
          "data": {
            "text/plain": [
              "<Figure size 432x288 with 1 Axes>"
            ],
            "image/png": "[encoded data removed]"
          },
          "metadata": {
            "needs_background": "light"
          }
        }
      ]
    },
    {
      "cell_type": "code",
      "source": [
        "metrics.r2_score(y_test,esol_pred)"
      ],
      "metadata": {
        "colab": {
          "base_uri": "https://localhost:8080/"
        },
        "id": "I4o599AXAi0_",
        "outputId": "08c6afb7-81b4-4129-b6ac-f2f96afa7524"
      },
      "execution_count": 13,
      "outputs": [
        {
          "output_type": "execute_result",
          "data": {
            "text/plain": [
              "0.7839834529021221"
            ]
          },
          "metadata": {},
          "execution_count": 13
        }
      ]
    },
    {
      "cell_type": "code",
      "source": [
        ""
      ],
      "metadata": {
        "id": "lkEP6TW5TUoB"
      },
      "execution_count": null,
      "outputs": []
    },
    {
      "cell_type": "markdown",
      "metadata": {
        "id": "6RD7Ywqzr5SG"
      },
      "source": [
        "#Graph Neural Networks\n",
        "\n",
        "Until now i have used molecules' chemical properties to build my predictions. Now, using GNNs, I should be able to directly use the molecules' structure, by representing each molecule as a **graph** of nodes and connections. I will compare if it gives better results\n",
        "\n",
        "![alt text](https://snappygoat.com/b/a59dd47ded9e6b82231b2cbe1af91e56c8e0e291)\n",
        "\n",
        "There are 5 nodes and 4 connections are there in this molecule of Methane (CH4)."
      ]
    },
    {
      "cell_type": "markdown",
      "source": [
        "Getting the molecules structure from the \"smiles\" column:"
      ],
      "metadata": {
        "id": "xMs3ghFcUlUj"
      }
    },
    {
      "cell_type": "code",
      "source": [
        "loader = deepchem.data.CSVLoader(tasks=[\"measured log solubility in mols per litre\"], \n",
        "                                 feature_field=\"smiles\", \n",
        "                                 featurizer=deepchem.feat.ConvMolFeaturizer())\n",
        "solubility_smiles_data = loader.create_dataset(\"delaney-processed.csv\")\n",
        "\n",
        "splitter = deepchem.splits.IndexSplitter()\n",
        "sol_train_dataset, sol_test_dataset = splitter.train_test_split(solubility_smiles_data,\n",
        "                                                                 frac_train=0.8)"
      ],
      "metadata": {
        "id": "1CEjc2PcT8yf"
      },
      "execution_count": 16,
      "outputs": []
    },
    {
      "cell_type": "markdown",
      "source": [
        "Let's define and train the model"
      ],
      "metadata": {
        "id": "rc5-IN7xUzq2"
      }
    },
    {
      "cell_type": "code",
      "source": [
        "import warnings\n",
        "warnings.filterwarnings('ignore')\n",
        "sol_gnn = GraphConvModel(n_tasks=1, mode=\"regression\",dropout=0.2)\n",
        "sol_gnn.fit(sol_train_dataset,nb_epoch=600)"
      ],
      "metadata": {
        "colab": {
          "base_uri": "https://localhost:8080/"
        },
        "id": "egpYNtfTUqxC",
        "outputId": "7ad5d31e-6d98-4f18-b783-2f42824a6277"
      },
      "execution_count": 17,
      "outputs": [
        {
          "output_type": "execute_result",
          "data": {
            "text/plain": [
              "0.13718732833862304"
            ]
          },
          "metadata": {},
          "execution_count": 17
        }
      ]
    },
    {
      "cell_type": "markdown",
      "source": [
        "This value is my most recent loss. "
      ],
      "metadata": {
        "id": "N9Ss6YYQXH8J"
      }
    },
    {
      "cell_type": "code",
      "source": [
        "gnn_pred = sol_gnn.predict(sol_test_dataset) \n",
        "metrics.r2_score(y_test,gnn_pred)"
      ],
      "metadata": {
        "colab": {
          "base_uri": "https://localhost:8080/"
        },
        "id": "WSxEDrbQU5b0",
        "outputId": "2e1ac8a9-3486-474b-801f-7b3ce5368574"
      },
      "execution_count": 18,
      "outputs": [
        {
          "output_type": "execute_result",
          "data": {
            "text/plain": [
              "0.7427996380020343"
            ]
          },
          "metadata": {},
          "execution_count": 18
        }
      ]
    },
    {
      "cell_type": "code",
      "source": [
        "plt.plot(y_test, gnn_pred, '.')\n",
        "plt.legend(['GNN regression'])\n",
        "plt.xlabel(\"True Log Solubility\")\n",
        "plt.ylabel(\"Predicted Log Solubility\")"
      ],
      "metadata": {
        "colab": {
          "base_uri": "https://localhost:8080/",
          "height": 296
        },
        "id": "fSCkbA1TXste",
        "outputId": "b1af3391-af81-49f0-9c1c-90889b5d4903"
      },
      "execution_count": 19,
      "outputs": [
        {
          "output_type": "execute_result",
          "data": {
            "text/plain": [
              "Text(0, 0.5, 'Predicted Log Solubility')"
            ]
          },
          "metadata": {},
          "execution_count": 19
        },
        {
          "output_type": "display_data",
          "data": {
            "text/plain": [
              "<Figure size 432x288 with 1 Axes>"
            ],
            "image/png": "[encoded data removed]"
          },
          "metadata": {
            "needs_background": "light"
          }
        }
      ]
    },
    {
      "cell_type": "markdown",
      "source": [
        "This is the best estimated solubility for each molecule I got!  "
      ],
      "metadata": {
        "id": "P1C7zlAlYNgK"
      }
    },
    {
      "cell_type": "markdown",
      "source": [
        "CONTINUE"
      ],
      "metadata": {
        "id": "0ymB4kfWYyaJ"
      }
    }
  ]
}